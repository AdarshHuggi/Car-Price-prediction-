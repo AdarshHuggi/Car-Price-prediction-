{
 "cells": [
  {
   "cell_type": "markdown",
   "metadata": {},
   "source": [
    "### Problem Statement\n",
    "After collecting the data, you need to build a machine learning model. Before model building do all data pre-processing steps. Try different models with different hyper parameters and select the best model. Follow the complete life cycle of data science. Include all the steps like.\n",
    "\n",
    "    Data Cleaning\n",
    "    Exploratory Data Analysis\n",
    "    Data Pre-processing\n",
    "    Model Building\n",
    "    Model Evaluation\n",
    "    Selecting the best model"
   ]
  },
  {
   "cell_type": "code",
   "execution_count": 146,
   "metadata": {
    "id": "6gTLzihTx_vZ"
   },
   "outputs": [],
   "source": [
    "#importing the libraries \n",
    "import pandas as pd\n",
    "import numpy as np\n",
    "import seaborn as sns\n",
    "import matplotlib.pyplot as plt\n",
    "import sklearn\n",
    "from sklearn.linear_model import LinearRegression\n",
    "from sklearn.metrics import mean_squared_error, mean_absolute_error\n",
    "\n",
    "from sklearn.model_selection import train_test_split\n",
    "from sklearn.metrics import roc_auc_score\n",
    "import sklearn.metrics as metrics\n",
    "from sklearn.metrics import confusion_matrix,classification_report\n",
    "from scipy.stats import zscore\n",
    "import warnings\n",
    "warnings.filterwarnings('ignore')"
   ]
  },
  {
   "cell_type": "markdown",
   "metadata": {},
   "source": [
    "## 2. Data Used\n",
    "Here we are using the we scraped data from different websites like Cardheko,Car24 Etc"
   ]
  },
  {
   "cell_type": "code",
   "execution_count": 148,
   "metadata": {
    "colab": {
     "base_uri": "https://localhost:8080/",
     "height": 253
    },
    "id": "1fhYsos8EGF9",
    "outputId": "317b850b-7c00-4e93-afff-bf89d09d0992",
    "scrolled": true
   },
   "outputs": [
    {
     "data": {
      "text/html": [
       "<div>\n",
       "<style scoped>\n",
       "    .dataframe tbody tr th:only-of-type {\n",
       "        vertical-align: middle;\n",
       "    }\n",
       "\n",
       "    .dataframe tbody tr th {\n",
       "        vertical-align: top;\n",
       "    }\n",
       "\n",
       "    .dataframe thead th {\n",
       "        text-align: right;\n",
       "    }\n",
       "</style>\n",
       "<table border=\"1\" class=\"dataframe\">\n",
       "  <thead>\n",
       "    <tr style=\"text-align: right;\">\n",
       "      <th></th>\n",
       "      <th>Unnamed: 0</th>\n",
       "      <th>Brand</th>\n",
       "      <th>Model</th>\n",
       "      <th>Variant</th>\n",
       "      <th>Gear</th>\n",
       "      <th>Engine(CC)</th>\n",
       "      <th>Max_Power(BHP)</th>\n",
       "      <th>Torque(Nm)</th>\n",
       "      <th>Mileage</th>\n",
       "      <th>Fuel</th>\n",
       "      <th>Color</th>\n",
       "      <th>Owner</th>\n",
       "      <th>Seats</th>\n",
       "      <th>Location</th>\n",
       "      <th>Insurance</th>\n",
       "      <th>Price</th>\n",
       "      <th>Year</th>\n",
       "    </tr>\n",
       "  </thead>\n",
       "  <tbody>\n",
       "    <tr>\n",
       "      <th>0</th>\n",
       "      <td>0</td>\n",
       "      <td>Datsun</td>\n",
       "      <td>RediGO</td>\n",
       "      <td>1.0 T Option</td>\n",
       "      <td>Manual</td>\n",
       "      <td>999</td>\n",
       "      <td>67</td>\n",
       "      <td>91</td>\n",
       "      <td>22.5</td>\n",
       "      <td>Petrol</td>\n",
       "      <td>Silver</td>\n",
       "      <td>1</td>\n",
       "      <td>5</td>\n",
       "      <td>Bangalore</td>\n",
       "      <td>Third Party insurance</td>\n",
       "      <td>328500</td>\n",
       "      <td>2017</td>\n",
       "    </tr>\n",
       "    <tr>\n",
       "      <th>1</th>\n",
       "      <td>1</td>\n",
       "      <td>Ford</td>\n",
       "      <td>Ecosport</td>\n",
       "      <td>1.5 DV5 MT Titanium</td>\n",
       "      <td>Manual</td>\n",
       "      <td>1498</td>\n",
       "      <td>89</td>\n",
       "      <td>204</td>\n",
       "      <td>22.7</td>\n",
       "      <td>Diesel</td>\n",
       "      <td>None</td>\n",
       "      <td>1</td>\n",
       "      <td>5</td>\n",
       "      <td>Bangalore</td>\n",
       "      <td>Third Party insurance</td>\n",
       "      <td>605865</td>\n",
       "      <td>2014</td>\n",
       "    </tr>\n",
       "    <tr>\n",
       "      <th>2</th>\n",
       "      <td>2</td>\n",
       "      <td>Ford</td>\n",
       "      <td>Ecosport</td>\n",
       "      <td>1.5 DV5 MT Titanium</td>\n",
       "      <td>Manual</td>\n",
       "      <td>1498</td>\n",
       "      <td>89</td>\n",
       "      <td>204</td>\n",
       "      <td>22.7</td>\n",
       "      <td>Diesel</td>\n",
       "      <td>None</td>\n",
       "      <td>1</td>\n",
       "      <td>5</td>\n",
       "      <td>Bangalore</td>\n",
       "      <td>Third Party insurance</td>\n",
       "      <td>584000</td>\n",
       "      <td>2014</td>\n",
       "    </tr>\n",
       "    <tr>\n",
       "      <th>3</th>\n",
       "      <td>3</td>\n",
       "      <td>Ford</td>\n",
       "      <td>Ecosport</td>\n",
       "      <td>Titanium Diesel</td>\n",
       "      <td>Manual</td>\n",
       "      <td>1498</td>\n",
       "      <td>99</td>\n",
       "      <td>215</td>\n",
       "      <td>21.7</td>\n",
       "      <td>Diesel</td>\n",
       "      <td>None</td>\n",
       "      <td>2</td>\n",
       "      <td>5</td>\n",
       "      <td>Bangalore</td>\n",
       "      <td>Third Party insurance</td>\n",
       "      <td>622500</td>\n",
       "      <td>2014</td>\n",
       "    </tr>\n",
       "    <tr>\n",
       "      <th>4</th>\n",
       "      <td>4</td>\n",
       "      <td>Ford</td>\n",
       "      <td>Fiesta</td>\n",
       "      <td>1.4 Duratorq LXI</td>\n",
       "      <td>Manual</td>\n",
       "      <td>1388</td>\n",
       "      <td>67</td>\n",
       "      <td>160</td>\n",
       "      <td>18.6</td>\n",
       "      <td>Diesel</td>\n",
       "      <td>None</td>\n",
       "      <td>2</td>\n",
       "      <td>5</td>\n",
       "      <td>Bangalore</td>\n",
       "      <td>Third Party insurance</td>\n",
       "      <td>256000</td>\n",
       "      <td>2012</td>\n",
       "    </tr>\n",
       "  </tbody>\n",
       "</table>\n",
       "</div>"
      ],
      "text/plain": [
       "   Unnamed: 0   Brand     Model              Variant    Gear Engine(CC)  \\\n",
       "0           0  Datsun    RediGO         1.0 T Option  Manual        999   \n",
       "1           1    Ford  Ecosport  1.5 DV5 MT Titanium  Manual       1498   \n",
       "2           2    Ford  Ecosport  1.5 DV5 MT Titanium  Manual       1498   \n",
       "3           3    Ford  Ecosport      Titanium Diesel  Manual       1498   \n",
       "4           4    Ford    Fiesta     1.4 Duratorq LXI  Manual       1388   \n",
       "\n",
       "   Max_Power(BHP) Torque(Nm) Mileage    Fuel   Color  Owner Seats   Location  \\\n",
       "0              67         91    22.5  Petrol  Silver      1     5  Bangalore   \n",
       "1              89        204    22.7  Diesel    None      1     5  Bangalore   \n",
       "2              89        204    22.7  Diesel    None      1     5  Bangalore   \n",
       "3              99        215    21.7  Diesel    None      2     5  Bangalore   \n",
       "4              67        160    18.6  Diesel    None      2     5  Bangalore   \n",
       "\n",
       "               Insurance   Price  Year  \n",
       "0  Third Party insurance  328500  2017  \n",
       "1  Third Party insurance  605865  2014  \n",
       "2  Third Party insurance  584000  2014  \n",
       "3  Third Party insurance  622500  2014  \n",
       "4  Third Party insurance  256000  2012  "
      ]
     },
     "execution_count": 148,
     "metadata": {},
     "output_type": "execute_result"
    }
   ],
   "source": [
    "#loading the data set\n",
    "df= pd.read_csv('Car_DB_clean.csv')\n",
    "df.head()"
   ]
  },
  {
   "cell_type": "code",
   "execution_count": 140,
   "metadata": {},
   "outputs": [
    {
     "data": {
      "text/plain": [
       "(2394, 17)"
      ]
     },
     "execution_count": 140,
     "metadata": {},
     "output_type": "execute_result"
    }
   ],
   "source": [
    "df.shape"
   ]
  },
  {
   "cell_type": "markdown",
   "metadata": {
    "colab": {
     "base_uri": "https://localhost:8080/",
     "height": 224
    },
    "id": "D_S7VwcN2plC",
    "outputId": "2f9357db-ca60-46f3-d336-ac692844edca"
   },
   "source": [
    "## Data understanding and exploration:"
   ]
  },
  {
   "cell_type": "code",
   "execution_count": 149,
   "metadata": {
    "colab": {
     "base_uri": "https://localhost:8080/"
    },
    "id": "TuCW7ty23Eq_",
    "outputId": "1fa16a46-737e-468b-fc3f-68d8477cc2ac"
   },
   "outputs": [
    {
     "name": "stdout",
     "output_type": "stream",
     "text": [
      "<class 'pandas.core.frame.DataFrame'>\n",
      "RangeIndex: 2394 entries, 0 to 2393\n",
      "Data columns (total 17 columns):\n",
      "Unnamed: 0        2394 non-null int64\n",
      "Brand             2394 non-null object\n",
      "Model             2394 non-null object\n",
      "Variant           2394 non-null object\n",
      "Gear              2394 non-null object\n",
      "Engine(CC)        2394 non-null object\n",
      "Max_Power(BHP)    2394 non-null int64\n",
      "Torque(Nm)        2394 non-null object\n",
      "Mileage           2394 non-null object\n",
      "Fuel              2394 non-null object\n",
      "Color             2394 non-null object\n",
      "Owner             2394 non-null int64\n",
      "Seats             2394 non-null object\n",
      "Location          2394 non-null object\n",
      "Insurance         2394 non-null object\n",
      "Price             2394 non-null object\n",
      "Year              2394 non-null object\n",
      "dtypes: int64(3), object(14)\n",
      "memory usage: 318.0+ KB\n"
     ]
    }
   ],
   "source": [
    "df.info()"
   ]
  },
  {
   "cell_type": "markdown",
   "metadata": {},
   "source": [
    "## Data cleaning "
   ]
  },
  {
   "cell_type": "markdown",
   "metadata": {},
   "source": [
    "#### Checking null values"
   ]
  },
  {
   "cell_type": "code",
   "execution_count": 150,
   "metadata": {
    "colab": {
     "base_uri": "https://localhost:8080/"
    },
    "id": "HMDmZYIRIz3D",
    "outputId": "98348b1d-9e9a-4b09-c68b-67558df86e11"
   },
   "outputs": [
    {
     "data": {
      "text/plain": [
       "Unnamed: 0        0\n",
       "Brand             0\n",
       "Model             0\n",
       "Variant           0\n",
       "Gear              0\n",
       "Engine(CC)        0\n",
       "Max_Power(BHP)    0\n",
       "Torque(Nm)        0\n",
       "Mileage           0\n",
       "Fuel              0\n",
       "Color             0\n",
       "Owner             0\n",
       "Seats             0\n",
       "Location          0\n",
       "Insurance         0\n",
       "Price             0\n",
       "Year              0\n",
       "dtype: int64"
      ]
     },
     "execution_count": 150,
     "metadata": {},
     "output_type": "execute_result"
    }
   ],
   "source": [
    "df.isnull().sum()"
   ]
  },
  {
   "cell_type": "code",
   "execution_count": 151,
   "metadata": {},
   "outputs": [],
   "source": [
    "df.dropna(how='all',inplace =True)\n",
    "#Droping the null values Gear column\n",
    "df.dropna(subset=['Color'],inplace = True)"
   ]
  },
  {
   "cell_type": "code",
   "execution_count": 108,
   "metadata": {
    "colab": {
     "base_uri": "https://localhost:8080/"
    },
    "id": "fvtPRfrgEjtg",
    "outputId": "66d2fc55-4d6e-4677-e387-ea97d64b4630",
    "scrolled": true
   },
   "outputs": [
    {
     "data": {
      "text/plain": [
       "Brand             0\n",
       "Model             0\n",
       "Variant           0\n",
       "Gear              0\n",
       "Engine(CC)        0\n",
       "Max_Power(BHP)    0\n",
       "Torque(Nm)        0\n",
       "Mileage           0\n",
       "Fuel              0\n",
       "Color             0\n",
       "Owner             0\n",
       "Seats             0\n",
       "Location          0\n",
       "Insurance         0\n",
       "Price             0\n",
       "Year              0\n",
       "dtype: int64"
      ]
     },
     "execution_count": 108,
     "metadata": {},
     "output_type": "execute_result"
    }
   ],
   "source": [
    "df.isnull().sum()"
   ]
  },
  {
   "cell_type": "code",
   "execution_count": 153,
   "metadata": {},
   "outputs": [],
   "source": [
    "df.drop(['Unnamed: 0'],axis=1,inplace = True)"
   ]
  },
  {
   "cell_type": "code",
   "execution_count": 55,
   "metadata": {},
   "outputs": [],
   "source": [
    "#spliting the sting by space \n",
    "df['Model'] = df['Brand'].str.split(' ').str[2]"
   ]
  },
  {
   "cell_type": "code",
   "execution_count": 56,
   "metadata": {},
   "outputs": [],
   "source": [
    "df['Brand'] = df['Brand'].str.split(' ').str[1]"
   ]
  },
  {
   "cell_type": "code",
   "execution_count": 115,
   "metadata": {},
   "outputs": [],
   "source": [
    "df['Owner'] = df['Owner'].str.replace('No Of Owner(s)','')\n",
    "df['KiloMeter'] = df['KiloMeter'].str.replace('Kms','')\n",
    "\n",
    "df['Mileage'] = df['Mileage'].str.replace('kmpl','')\n",
    "df['Max_Power(BHP)'] = df['Max_Power'].str.replace('bhp','')\n",
    "df['Engine(CC)'] = df['Engine'].str.replace(' cc','')\n",
    "df['Torque(Nm)'] = df['Torque'].str.replace('Nm','')"
   ]
  },
  {
   "cell_type": "code",
   "execution_count": 58,
   "metadata": {},
   "outputs": [],
   "source": [
    "df['Torque(Nm)'] = df['Torque(Nm)'].str.extract('(\\d+)', expand=False)"
   ]
  },
  {
   "cell_type": "code",
   "execution_count": 59,
   "metadata": {},
   "outputs": [],
   "source": [
    "#Remove all non numeric charcters from data frame\n",
    "df['Owner'] = df['Owner'].str.extract('(\\d+)', expand=False)\n",
    "df['Max_Power(BHP)'] = df['Max_Power(BHP)'].str.extract('(\\d+)', expand=False)"
   ]
  },
  {
   "cell_type": "code",
   "execution_count": 253,
   "metadata": {},
   "outputs": [],
   "source": [
    "#df['Price'] = df['Price'].str.replace(',','')\n",
    "\n",
    "df['Torque(Nm)'] = df['Torque(Nm)'].str.replace('(11.2)','')"
   ]
  },
  {
   "cell_type": "code",
   "execution_count": 61,
   "metadata": {},
   "outputs": [],
   "source": [
    "df.drop(['Engine','Torque','Max_Power'], axis=1, inplace=True)"
   ]
  },
  {
   "cell_type": "code",
   "execution_count": 62,
   "metadata": {},
   "outputs": [],
   "source": [
    "df['Month']=df['Reg_year'].str.split('-').str[1]"
   ]
  },
  {
   "cell_type": "code",
   "execution_count": 63,
   "metadata": {},
   "outputs": [],
   "source": [
    "column=['Brand', 'Model', 'Variant','Year' 'Gear','Engine(CC)', 'Max_Power(BHP)','Torque(Nm)','Mileage','Fuel','Color','Owner','Seats','Location', 'Insurance','Price']\n",
    "  \n",
    "# create the new index for columns\n",
    "df=df.reindex(column, axis='columns')"
   ]
  },
  {
   "cell_type": "code",
   "execution_count": 39,
   "metadata": {},
   "outputs": [],
   "source": [
    "#Remove all non numeric charcters from data frame\n",
    "df['Seats'] = df['Seats'].str.extract('(\\d+)', expand=False)"
   ]
  },
  {
   "cell_type": "code",
   "execution_count": 27,
   "metadata": {},
   "outputs": [],
   "source": [
    "#Remove all non numeric charcters from data frame\n",
    "df['Color'] = df['Color'].str.extract('(\\D+)', expand=False)"
   ]
  },
  {
   "cell_type": "code",
   "execution_count": 70,
   "metadata": {},
   "outputs": [],
   "source": [
    "#While scraping the data some the cars seats fatched other values so we removing with the condition \n",
    "df['Seats'] = np.where(df['Seats'] >='8', '6','5')"
   ]
  },
  {
   "cell_type": "code",
   "execution_count": 73,
   "metadata": {},
   "outputs": [],
   "source": [
    "df['Color'].fillna('None', inplace=True)"
   ]
  },
  {
   "cell_type": "code",
   "execution_count": 71,
   "metadata": {},
   "outputs": [],
   "source": [
    "df['Seats'].fillna('None', inplace=True)"
   ]
  },
  {
   "cell_type": "code",
   "execution_count": 93,
   "metadata": {},
   "outputs": [],
   "source": [
    "df['Owner'].fillna('1', inplace=True)"
   ]
  },
  {
   "cell_type": "code",
   "execution_count": 69,
   "metadata": {},
   "outputs": [],
   "source": [
    "df['Gear'] = np.where(df['Gear'] =='Automatic', 'Automatic','Manual')"
   ]
  },
  {
   "cell_type": "code",
   "execution_count": 35,
   "metadata": {},
   "outputs": [],
   "source": [
    "df['Insurance'] = np.where(df['Insurance'] =='Third Party insurance', 'Third Party insurance','Not Available')"
   ]
  },
  {
   "cell_type": "code",
   "execution_count": 425,
   "metadata": {},
   "outputs": [],
   "source": [
    "#df.to_csv('CAR_DB_cleaned.csv')"
   ]
  },
  {
   "cell_type": "code",
   "execution_count": 514,
   "metadata": {},
   "outputs": [
    {
     "data": {
      "text/html": [
       "<div>\n",
       "<style scoped>\n",
       "    .dataframe tbody tr th:only-of-type {\n",
       "        vertical-align: middle;\n",
       "    }\n",
       "\n",
       "    .dataframe tbody tr th {\n",
       "        vertical-align: top;\n",
       "    }\n",
       "\n",
       "    .dataframe thead th {\n",
       "        text-align: right;\n",
       "    }\n",
       "</style>\n",
       "<table border=\"1\" class=\"dataframe\">\n",
       "  <thead>\n",
       "    <tr style=\"text-align: right;\">\n",
       "      <th></th>\n",
       "      <th>Unnamed: 0</th>\n",
       "      <th>Brand</th>\n",
       "      <th>Model</th>\n",
       "      <th>Variant</th>\n",
       "      <th>Gear</th>\n",
       "      <th>Engine(CC)</th>\n",
       "      <th>Max_Power(BHP)</th>\n",
       "      <th>Torque(Nm)</th>\n",
       "      <th>Mileage</th>\n",
       "      <th>Fuel</th>\n",
       "      <th>Color</th>\n",
       "      <th>Owner</th>\n",
       "      <th>Seats</th>\n",
       "      <th>Location</th>\n",
       "      <th>Insurance</th>\n",
       "      <th>Price</th>\n",
       "      <th>Year</th>\n",
       "    </tr>\n",
       "  </thead>\n",
       "  <tbody>\n",
       "    <tr>\n",
       "      <th>0</th>\n",
       "      <td>0</td>\n",
       "      <td>Datsun</td>\n",
       "      <td>RediGO</td>\n",
       "      <td>1.0 T Option</td>\n",
       "      <td>Manual</td>\n",
       "      <td>999</td>\n",
       "      <td>67</td>\n",
       "      <td>91.0</td>\n",
       "      <td>22.5</td>\n",
       "      <td>Petrol</td>\n",
       "      <td>Silver</td>\n",
       "      <td>1</td>\n",
       "      <td>5</td>\n",
       "      <td>Bangalore</td>\n",
       "      <td>Third Party insurance</td>\n",
       "      <td>328500</td>\n",
       "      <td>2017</td>\n",
       "    </tr>\n",
       "    <tr>\n",
       "      <th>1</th>\n",
       "      <td>1</td>\n",
       "      <td>Ford</td>\n",
       "      <td>Ecosport</td>\n",
       "      <td>1.5 DV5 MT Titanium</td>\n",
       "      <td>Manual</td>\n",
       "      <td>1498</td>\n",
       "      <td>89</td>\n",
       "      <td>204.0</td>\n",
       "      <td>22.7</td>\n",
       "      <td>Diesel</td>\n",
       "      <td>None</td>\n",
       "      <td>1</td>\n",
       "      <td>5</td>\n",
       "      <td>Bangalore</td>\n",
       "      <td>Third Party insurance</td>\n",
       "      <td>605865</td>\n",
       "      <td>2014</td>\n",
       "    </tr>\n",
       "    <tr>\n",
       "      <th>2</th>\n",
       "      <td>2</td>\n",
       "      <td>Ford</td>\n",
       "      <td>Ecosport</td>\n",
       "      <td>1.5 DV5 MT Titanium</td>\n",
       "      <td>Manual</td>\n",
       "      <td>1498</td>\n",
       "      <td>89</td>\n",
       "      <td>204.0</td>\n",
       "      <td>22.7</td>\n",
       "      <td>Diesel</td>\n",
       "      <td>None</td>\n",
       "      <td>1</td>\n",
       "      <td>5</td>\n",
       "      <td>Bangalore</td>\n",
       "      <td>Third Party insurance</td>\n",
       "      <td>584000</td>\n",
       "      <td>2014</td>\n",
       "    </tr>\n",
       "    <tr>\n",
       "      <th>3</th>\n",
       "      <td>3</td>\n",
       "      <td>Ford</td>\n",
       "      <td>Ecosport</td>\n",
       "      <td>Titanium Diesel</td>\n",
       "      <td>Manual</td>\n",
       "      <td>1498</td>\n",
       "      <td>99</td>\n",
       "      <td>215.0</td>\n",
       "      <td>21.7</td>\n",
       "      <td>Diesel</td>\n",
       "      <td>None</td>\n",
       "      <td>2</td>\n",
       "      <td>5</td>\n",
       "      <td>Bangalore</td>\n",
       "      <td>Third Party insurance</td>\n",
       "      <td>622500</td>\n",
       "      <td>2014</td>\n",
       "    </tr>\n",
       "    <tr>\n",
       "      <th>4</th>\n",
       "      <td>4</td>\n",
       "      <td>Ford</td>\n",
       "      <td>Fiesta</td>\n",
       "      <td>1.4 Duratorq LXI</td>\n",
       "      <td>Manual</td>\n",
       "      <td>1388</td>\n",
       "      <td>67</td>\n",
       "      <td>160.0</td>\n",
       "      <td>18.6</td>\n",
       "      <td>Diesel</td>\n",
       "      <td>None</td>\n",
       "      <td>2</td>\n",
       "      <td>5</td>\n",
       "      <td>Bangalore</td>\n",
       "      <td>Third Party insurance</td>\n",
       "      <td>256000</td>\n",
       "      <td>2012</td>\n",
       "    </tr>\n",
       "  </tbody>\n",
       "</table>\n",
       "</div>"
      ],
      "text/plain": [
       "   Unnamed: 0   Brand     Model              Variant    Gear  Engine(CC)  \\\n",
       "0           0  Datsun    RediGO         1.0 T Option  Manual         999   \n",
       "1           1    Ford  Ecosport  1.5 DV5 MT Titanium  Manual        1498   \n",
       "2           2    Ford  Ecosport  1.5 DV5 MT Titanium  Manual        1498   \n",
       "3           3    Ford  Ecosport      Titanium Diesel  Manual        1498   \n",
       "4           4    Ford    Fiesta     1.4 Duratorq LXI  Manual        1388   \n",
       "\n",
       "   Max_Power(BHP)  Torque(Nm)  Mileage    Fuel   Color  Owner Seats  \\\n",
       "0              67        91.0     22.5  Petrol  Silver      1     5   \n",
       "1              89       204.0     22.7  Diesel    None      1     5   \n",
       "2              89       204.0     22.7  Diesel    None      1     5   \n",
       "3              99       215.0     21.7  Diesel    None      2     5   \n",
       "4              67       160.0     18.6  Diesel    None      2     5   \n",
       "\n",
       "    Location              Insurance   Price  Year  \n",
       "0  Bangalore  Third Party insurance  328500  2017  \n",
       "1  Bangalore  Third Party insurance  605865  2014  \n",
       "2  Bangalore  Third Party insurance  584000  2014  \n",
       "3  Bangalore  Third Party insurance  622500  2014  \n",
       "4  Bangalore  Third Party insurance  256000  2012  "
      ]
     },
     "execution_count": 514,
     "metadata": {},
     "output_type": "execute_result"
    }
   ],
   "source": [
    "df =pd.read_csv(\"CAR_DB_cleaned.csv\")\n",
    "df.head()"
   ]
  },
  {
   "cell_type": "code",
   "execution_count": 515,
   "metadata": {},
   "outputs": [],
   "source": [
    "df.drop(['Unnamed: 0'],axis=1,inplace = True)"
   ]
  },
  {
   "cell_type": "code",
   "execution_count": 516,
   "metadata": {},
   "outputs": [
    {
     "data": {
      "text/plain": [
       "Brand             0\n",
       "Model             0\n",
       "Variant           0\n",
       "Gear              0\n",
       "Engine(CC)        0\n",
       "Max_Power(BHP)    0\n",
       "Torque(Nm)        0\n",
       "Mileage           0\n",
       "Fuel              0\n",
       "Color             0\n",
       "Owner             0\n",
       "Seats             0\n",
       "Location          0\n",
       "Insurance         0\n",
       "Price             0\n",
       "Year              0\n",
       "dtype: int64"
      ]
     },
     "execution_count": 516,
     "metadata": {},
     "output_type": "execute_result"
    }
   ],
   "source": [
    "df.isnull().sum()"
   ]
  },
  {
   "cell_type": "markdown",
   "metadata": {
    "id": "fWuHGoyu1xrf"
   },
   "source": [
    "**Exploratory data Analysis**"
   ]
  },
  {
   "cell_type": "markdown",
   "metadata": {},
   "source": [
    "#### Univariant Analysis"
   ]
  },
  {
   "cell_type": "code",
   "execution_count": 517,
   "metadata": {
    "colab": {
     "base_uri": "https://localhost:8080/",
     "height": 381
    },
    "id": "AOt_JWJs1sfc",
    "outputId": "85334eb5-789d-44db-fb65-6f658e550c30"
   },
   "outputs": [
    {
     "name": "stdout",
     "output_type": "stream",
     "text": [
      "Maruti        1010\n",
      "Hyundai        427\n",
      "Honda          294\n",
      "Mahindra       191\n",
      "Ford           150\n",
      "Renault         87\n",
      "Tata            77\n",
      "Toyota          70\n",
      "Volkswagen      43\n",
      "Skoda           10\n",
      "Nissan           9\n",
      "MG               5\n",
      "Datsun           5\n",
      "BMW              4\n",
      "Mitsubishi       3\n",
      "Kia              3\n",
      "Chevrolet        2\n",
      "Jeep             1\n",
      "Name: Brand, dtype: int64\n"
     ]
    },
    {
     "data": {
      "image/png": "[encoded data removed]",
      "text/plain": [
       "<Figure size 1080x360 with 1 Axes>"
      ]
     },
     "metadata": {
      "needs_background": "light"
     },
     "output_type": "display_data"
    }
   ],
   "source": [
    "fig=plt.figure(figsize=(15,5))\n",
    "sns.countplot(df['Brand'])\n",
    "print(df['Brand'].value_counts())\n",
    "plt.show()"
   ]
  },
  {
   "cell_type": "markdown",
   "metadata": {
    "id": "NOPgahZ13CS9"
   },
   "source": [
    "Descrpition: Highest number of hosues sale Identifies the general zoning classification of the sale \"Residential Low Density\" "
   ]
  },
  {
   "cell_type": "code",
   "execution_count": null,
   "metadata": {
    "colab": {
     "base_uri": "https://localhost:8080/",
     "height": 330
    },
    "id": "M9Jp_2Mn1QCU",
    "outputId": "180ab83a-cdae-4058-9a13-1e289a3e9645"
   },
   "outputs": [],
   "source": []
  },
  {
   "cell_type": "code",
   "execution_count": 518,
   "metadata": {},
   "outputs": [
    {
     "data": {
      "image/png": "[encoded data removed]",
      "text/plain": [
       "<Figure size 1080x360 with 1 Axes>"
      ]
     },
     "metadata": {
      "needs_background": "light"
     },
     "output_type": "display_data"
    }
   ],
   "source": [
    "fig=plt.figure(figsize=(15,5))\n",
    "sns.countplot(df['Model'])\n",
    "plt.show()"
   ]
  },
  {
   "cell_type": "code",
   "execution_count": 519,
   "metadata": {},
   "outputs": [
    {
     "name": "stdout",
     "output_type": "stream",
     "text": [
      "Manual       2109\n",
      "Automatic     268\n",
      "UP16            4\n",
      "DL9C            4\n",
      "DL10            2\n",
      "DL12            2\n",
      "DL7C            2\n",
      "Name: Gear, dtype: int64\n"
     ]
    },
    {
     "data": {
      "image/png": "[encoded data removed]",
      "text/plain": [
       "<Figure size 360x360 with 1 Axes>"
      ]
     },
     "metadata": {
      "needs_background": "light"
     },
     "output_type": "display_data"
    }
   ],
   "source": [
    "fig=plt.figure(figsize=(5,5))\n",
    "sns.countplot(df['Gear'])\n",
    "print(df['Gear'].value_counts())\n",
    "plt.show()"
   ]
  },
  {
   "cell_type": "code",
   "execution_count": 520,
   "metadata": {},
   "outputs": [
    {
     "name": "stdout",
     "output_type": "stream",
     "text": [
      "None                                      547\n",
      " other                                    516\n",
      "White                                     289\n",
      "Other                                     241\n",
      "Grey                                      178\n",
      "Silver                                    169\n",
      "FWD                                       154\n",
      "Red                                        87\n",
      "Blue                                       59\n",
      "Brown                                      20\n",
      "#NAME?                                     18\n",
      "CVT                                        14\n",
      "Maroon                                     12\n",
      "Black                                      10\n",
      "AWD                                        10\n",
      "RWD                                         8\n",
      "WD                                          8\n",
      " WD                                         6\n",
      "Orange                                      5\n",
      "Golden Brown                                4\n",
      "????                                        4\n",
      "Five other Manual Transmission Gearbox      4\n",
      "Golden                                      2\n",
      "Purple                                      2\n",
      " other AT+ Paddle Shifters                  2\n",
      "T Blue                                      2\n",
      "PINK                                        2\n",
      "nexa blue                                   2\n",
      "Magma Grey                                  2\n",
      "Magma gray                                  2\n",
      "Sky Grey                                    2\n",
      "Green                                       2\n",
      "?????                                       2\n",
      "Premium Silver                              2\n",
      " other DCT                                  2\n",
      "Power                                       2\n",
      "Name: Color, dtype: int64\n"
     ]
    },
    {
     "data": {
      "image/png": "[encoded data removed]",
      "text/plain": [
       "<Figure size 1080x360 with 1 Axes>"
      ]
     },
     "metadata": {
      "needs_background": "light"
     },
     "output_type": "display_data"
    }
   ],
   "source": [
    "fig=plt.figure(figsize=(15,5))\n",
    "sns.countplot(df['Color'])\n",
    "print(df['Color'].value_counts())\n",
    "plt.show()"
   ]
  },
  {
   "cell_type": "code",
   "execution_count": 521,
   "metadata": {},
   "outputs": [
    {
     "name": "stdout",
     "output_type": "stream",
     "text": [
      "Petrol    1325\n",
      "Diesel    1045\n",
      "CNG         20\n",
      "LPG          1\n",
      "Name: Fuel, dtype: int64\n"
     ]
    },
    {
     "data": {
      "image/png": "[encoded data removed]",
      "text/plain": [
       "<Figure size 360x360 with 1 Axes>"
      ]
     },
     "metadata": {
      "needs_background": "light"
     },
     "output_type": "display_data"
    }
   ],
   "source": [
    "fig=plt.figure(figsize=(5,5))\n",
    "sns.countplot(df['Fuel'])\n",
    "print(df['Fuel'].value_counts())\n",
    "plt.show()"
   ]
  },
  {
   "cell_type": "code",
   "execution_count": 522,
   "metadata": {},
   "outputs": [
    {
     "name": "stdout",
     "output_type": "stream",
     "text": [
      "1    1982\n",
      "2     382\n",
      "3      20\n",
      "4       7\n",
      "Name: Owner, dtype: int64\n"
     ]
    },
    {
     "data": {
      "image/png": "[encoded data removed]",
      "text/plain": [
       "<Figure size 360x360 with 1 Axes>"
      ]
     },
     "metadata": {
      "needs_background": "light"
     },
     "output_type": "display_data"
    }
   ],
   "source": [
    "fig=plt.figure(figsize=(5,5))\n",
    "sns.countplot(df['Owner'])\n",
    "print(df['Owner'].value_counts())\n",
    "plt.show()"
   ]
  },
  {
   "cell_type": "code",
   "execution_count": 523,
   "metadata": {},
   "outputs": [
    {
     "name": "stdout",
     "output_type": "stream",
     "text": [
      "Not Available            1309\n",
      "Third Party insurance    1082\n",
      "Name: Insurance, dtype: int64\n"
     ]
    },
    {
     "data": {
      "image/png": "[encoded data removed]",
      "text/plain": [
       "<Figure size 360x216 with 1 Axes>"
      ]
     },
     "metadata": {
      "needs_background": "light"
     },
     "output_type": "display_data"
    }
   ],
   "source": [
    "fig=plt.figure(figsize=(5,3))\n",
    "sns.countplot(df['Insurance'])\n",
    "print(df['Insurance'].value_counts())\n",
    "plt.show()"
   ]
  },
  {
   "cell_type": "code",
   "execution_count": 524,
   "metadata": {},
   "outputs": [
    {
     "name": "stdout",
     "output_type": "stream",
     "text": [
      "Petrol    1325\n",
      "Diesel    1045\n",
      "CNG         20\n",
      "LPG          1\n",
      "Name: Fuel, dtype: int64\n"
     ]
    },
    {
     "data": {
      "image/png": "[encoded data removed]",
      "text/plain": [
       "<Figure size 360x216 with 1 Axes>"
      ]
     },
     "metadata": {
      "needs_background": "light"
     },
     "output_type": "display_data"
    }
   ],
   "source": [
    "fig=plt.figure(figsize=(5,3))\n",
    "sns.countplot(df['Fuel'])\n",
    "print(df['Fuel'].value_counts())\n",
    "plt.show()"
   ]
  },
  {
   "cell_type": "code",
   "execution_count": 525,
   "metadata": {},
   "outputs": [
    {
     "data": {
      "image/png": "[encoded data removed]",
      "text/plain": [
       "<Figure size 1080x360 with 1 Axes>"
      ]
     },
     "metadata": {
      "needs_background": "light"
     },
     "output_type": "display_data"
    }
   ],
   "source": [
    "fig=plt.figure(figsize=(15,5))\n",
    "sns.countplot(x='Brand',hue='Year',  data=df)\n",
    "plt.show()"
   ]
  },
  {
   "cell_type": "code",
   "execution_count": 526,
   "metadata": {},
   "outputs": [],
   "source": [
    "#df['Price']=df['Price'].str.replace(\",\",\"\")"
   ]
  },
  {
   "cell_type": "code",
   "execution_count": 527,
   "metadata": {},
   "outputs": [],
   "source": [
    "df['Price']=pd.to_numeric(df['Price'])"
   ]
  },
  {
   "cell_type": "code",
   "execution_count": 528,
   "metadata": {
    "id": "ib07kFuFf9vh"
   },
   "outputs": [],
   "source": [
    "df['Price']=pd.to_numeric(df['Price'])\n",
    "df['Engine(CC)']=pd.to_numeric(df['Engine(CC)'])\n",
    "df['Torque(Nm)']=pd.to_numeric(df['Torque(Nm)'])\n",
    "df['Mileage']=pd.to_numeric(df['Mileage'])\n",
    "df['Max_Power(BHP)']=pd.to_numeric(df['Max_Power(BHP)'])\n",
    "df['Owner']=pd.to_numeric(df['Owner'])\n",
    "df['Year']=pd.to_numeric(df['Year'])\n"
   ]
  },
  {
   "cell_type": "code",
   "execution_count": 529,
   "metadata": {},
   "outputs": [],
   "source": [
    "#df['Torque(Nm)']=df['Torque(Nm)'].str.replace('kgm','')"
   ]
  },
  {
   "cell_type": "code",
   "execution_count": 530,
   "metadata": {
    "colab": {
     "base_uri": "https://localhost:8080/",
     "height": 279
    },
    "id": "TJA21CN2WqLZ",
    "outputId": "a628c5d0-aa65-4775-b660-81ca20578af9"
   },
   "outputs": [
    {
     "data": {
      "text/plain": [
       "<matplotlib.axes._subplots.AxesSubplot at 0x1ab7e99f080>"
      ]
     },
     "execution_count": 530,
     "metadata": {},
     "output_type": "execute_result"
    },
    {
     "data": {
      "image/png": "[encoded data removed]",
      "text/plain": [
       "<Figure size 432x288 with 1 Axes>"
      ]
     },
     "metadata": {
      "needs_background": "light"
     },
     "output_type": "display_data"
    }
   ],
   "source": [
    "sns.distplot(df[\"Price\"])"
   ]
  },
  {
   "cell_type": "code",
   "execution_count": null,
   "metadata": {
    "id": "EkK3-rJSkZvM"
   },
   "outputs": [],
   "source": []
  },
  {
   "cell_type": "code",
   "execution_count": 531,
   "metadata": {
    "colab": {
     "base_uri": "https://localhost:8080/",
     "height": 279
    },
    "id": "t6xUeUVLW8Ff",
    "outputId": "bb05b63f-4052-4c0e-fff5-e3b27291a7f4"
   },
   "outputs": [
    {
     "data": {
      "text/plain": [
       "<matplotlib.axes._subplots.AxesSubplot at 0x1ab00206b38>"
      ]
     },
     "execution_count": 531,
     "metadata": {},
     "output_type": "execute_result"
    },
    {
     "data": {
      "image/png": "[encoded data removed]",
      "text/plain": [
       "<Figure size 432x288 with 1 Axes>"
      ]
     },
     "metadata": {
      "needs_background": "light"
     },
     "output_type": "display_data"
    }
   ],
   "source": [
    "sns.distplot(df[\"Year\"])"
   ]
  },
  {
   "cell_type": "code",
   "execution_count": 532,
   "metadata": {
    "colab": {
     "base_uri": "https://localhost:8080/",
     "height": 279
    },
    "id": "-uu0AreHXPd3",
    "outputId": "0d42619e-3e4b-47c3-b0a6-80b93707cd77"
   },
   "outputs": [
    {
     "data": {
      "image/png": "[encoded data removed]",
      "text/plain": [
       "<Figure size 432x288 with 1 Axes>"
      ]
     },
     "metadata": {
      "needs_background": "light"
     },
     "output_type": "display_data"
    }
   ],
   "source": [
    "sns.distplot(df[\"Mileage\"]);"
   ]
  },
  {
   "cell_type": "code",
   "execution_count": 533,
   "metadata": {},
   "outputs": [
    {
     "data": {
      "image/png": "[encoded data removed]",
      "text/plain": [
       "<Figure size 432x288 with 1 Axes>"
      ]
     },
     "metadata": {
      "needs_background": "light"
     },
     "output_type": "display_data"
    }
   ],
   "source": [
    "sns.distplot(df[\"Engine(CC)\"]);"
   ]
  },
  {
   "cell_type": "code",
   "execution_count": null,
   "metadata": {},
   "outputs": [],
   "source": []
  },
  {
   "cell_type": "markdown",
   "metadata": {
    "id": "grCzExtCiWmr"
   },
   "source": []
  },
  {
   "cell_type": "code",
   "execution_count": 534,
   "metadata": {
    "colab": {
     "base_uri": "https://localhost:8080/",
     "height": 279
    },
    "id": "MkNLf7SvXQa7",
    "outputId": "1c524d8b-4a7b-4c72-ede5-6ea804f33370"
   },
   "outputs": [
    {
     "data": {
      "text/plain": [
       "<matplotlib.collections.PathCollection at 0x1ab7d2f96d8>"
      ]
     },
     "execution_count": 534,
     "metadata": {},
     "output_type": "execute_result"
    },
    {
     "data": {
      "image/png": "[encoded data removed]",
      "text/plain": [
       "<Figure size 432x288 with 1 Axes>"
      ]
     },
     "metadata": {
      "needs_background": "light"
     },
     "output_type": "display_data"
    }
   ],
   "source": [
    "plt.scatter(df['Price'],df['Engine(CC)'])"
   ]
  },
  {
   "cell_type": "markdown",
   "metadata": {
    "id": "39ObuzeYispL"
   },
   "source": []
  },
  {
   "cell_type": "code",
   "execution_count": 535,
   "metadata": {
    "colab": {
     "base_uri": "https://localhost:8080/",
     "height": 279
    },
    "id": "MhyZDnbQXRVA",
    "outputId": "07748152-2cdf-430f-eb39-439b93d82b43"
   },
   "outputs": [
    {
     "data": {
      "text/plain": [
       "<matplotlib.collections.PathCollection at 0x1ab7d339e10>"
      ]
     },
     "execution_count": 535,
     "metadata": {},
     "output_type": "execute_result"
    },
    {
     "data": {
      "image/png": "[encoded data removed]",
      "text/plain": [
       "<Figure size 432x288 with 1 Axes>"
      ]
     },
     "metadata": {
      "needs_background": "light"
     },
     "output_type": "display_data"
    }
   ],
   "source": [
    "plt.scatter(df['Price'],df['Max_Power(BHP)'])"
   ]
  },
  {
   "cell_type": "markdown",
   "metadata": {
    "id": "a66nWT-BjPPv"
   },
   "source": [
    "Observation : price of the Car is increase and power of the engine also inceases"
   ]
  },
  {
   "cell_type": "code",
   "execution_count": 536,
   "metadata": {},
   "outputs": [
    {
     "data": {
      "text/plain": [
       "<matplotlib.collections.PathCollection at 0x1ab00d9be10>"
      ]
     },
     "execution_count": 536,
     "metadata": {},
     "output_type": "execute_result"
    },
    {
     "data": {
      "image/png": "[encoded data removed]",
      "text/plain": [
       "<Figure size 432x288 with 1 Axes>"
      ]
     },
     "metadata": {
      "needs_background": "light"
     },
     "output_type": "display_data"
    }
   ],
   "source": [
    "plt.scatter(df['Price'],df['Mileage'])"
   ]
  },
  {
   "cell_type": "code",
   "execution_count": null,
   "metadata": {},
   "outputs": [],
   "source": [
    "Observation : We clearly sees that as car price increases mileage of the car dicreases "
   ]
  },
  {
   "cell_type": "code",
   "execution_count": 537,
   "metadata": {},
   "outputs": [
    {
     "data": {
      "text/plain": [
       "<matplotlib.collections.PathCollection at 0x1ab7d3f1b38>"
      ]
     },
     "execution_count": 537,
     "metadata": {},
     "output_type": "execute_result"
    },
    {
     "data": {
      "image/png": "[encoded data removed]",
      "text/plain": [
       "<Figure size 432x288 with 1 Axes>"
      ]
     },
     "metadata": {
      "needs_background": "light"
     },
     "output_type": "display_data"
    }
   ],
   "source": [
    "plt.scatter(df['Price'],df['Torque(Nm)'])"
   ]
  },
  {
   "cell_type": "code",
   "execution_count": 538,
   "metadata": {
    "colab": {
     "base_uri": "https://localhost:8080/",
     "height": 1000
    },
    "id": "RcK7NKPYIS_i",
    "outputId": "29733835-4c6e-42fd-bb04-bdf11e8e7841"
   },
   "outputs": [
    {
     "data": {
      "text/html": [
       "<div>\n",
       "<style scoped>\n",
       "    .dataframe tbody tr th:only-of-type {\n",
       "        vertical-align: middle;\n",
       "    }\n",
       "\n",
       "    .dataframe tbody tr th {\n",
       "        vertical-align: top;\n",
       "    }\n",
       "\n",
       "    .dataframe thead th {\n",
       "        text-align: right;\n",
       "    }\n",
       "</style>\n",
       "<table border=\"1\" class=\"dataframe\">\n",
       "  <thead>\n",
       "    <tr style=\"text-align: right;\">\n",
       "      <th></th>\n",
       "      <th>count</th>\n",
       "      <th>mean</th>\n",
       "      <th>std</th>\n",
       "      <th>min</th>\n",
       "      <th>25%</th>\n",
       "      <th>50%</th>\n",
       "      <th>75%</th>\n",
       "      <th>max</th>\n",
       "    </tr>\n",
       "  </thead>\n",
       "  <tbody>\n",
       "    <tr>\n",
       "      <th>Engine(CC)</th>\n",
       "      <td>2391.0</td>\n",
       "      <td>1341.902551</td>\n",
       "      <td>356.462453</td>\n",
       "      <td>624.0</td>\n",
       "      <td>1197.0</td>\n",
       "      <td>1248.00</td>\n",
       "      <td>1493.0</td>\n",
       "      <td>2982.00</td>\n",
       "    </tr>\n",
       "    <tr>\n",
       "      <th>Max_Power(BHP)</th>\n",
       "      <td>2391.0</td>\n",
       "      <td>87.060644</td>\n",
       "      <td>20.001676</td>\n",
       "      <td>34.0</td>\n",
       "      <td>74.0</td>\n",
       "      <td>83.00</td>\n",
       "      <td>98.0</td>\n",
       "      <td>194.00</td>\n",
       "    </tr>\n",
       "    <tr>\n",
       "      <th>Torque(Nm)</th>\n",
       "      <td>2391.0</td>\n",
       "      <td>156.699440</td>\n",
       "      <td>65.313011</td>\n",
       "      <td>7.0</td>\n",
       "      <td>113.0</td>\n",
       "      <td>140.00</td>\n",
       "      <td>200.0</td>\n",
       "      <td>1061.00</td>\n",
       "    </tr>\n",
       "    <tr>\n",
       "      <th>Mileage</th>\n",
       "      <td>2391.0</td>\n",
       "      <td>20.689055</td>\n",
       "      <td>3.824123</td>\n",
       "      <td>10.0</td>\n",
       "      <td>18.0</td>\n",
       "      <td>20.92</td>\n",
       "      <td>23.1</td>\n",
       "      <td>33.54</td>\n",
       "    </tr>\n",
       "    <tr>\n",
       "      <th>Owner</th>\n",
       "      <td>2391.0</td>\n",
       "      <td>1.185278</td>\n",
       "      <td>0.430491</td>\n",
       "      <td>1.0</td>\n",
       "      <td>1.0</td>\n",
       "      <td>1.00</td>\n",
       "      <td>1.0</td>\n",
       "      <td>4.00</td>\n",
       "    </tr>\n",
       "    <tr>\n",
       "      <th>Price</th>\n",
       "      <td>2391.0</td>\n",
       "      <td>553593.686324</td>\n",
       "      <td>178677.112628</td>\n",
       "      <td>74500.0</td>\n",
       "      <td>450000.0</td>\n",
       "      <td>551040.00</td>\n",
       "      <td>650000.0</td>\n",
       "      <td>1903500.00</td>\n",
       "    </tr>\n",
       "    <tr>\n",
       "      <th>Year</th>\n",
       "      <td>2391.0</td>\n",
       "      <td>2016.298620</td>\n",
       "      <td>2.512128</td>\n",
       "      <td>2003.0</td>\n",
       "      <td>2015.0</td>\n",
       "      <td>2017.00</td>\n",
       "      <td>2018.0</td>\n",
       "      <td>2021.00</td>\n",
       "    </tr>\n",
       "  </tbody>\n",
       "</table>\n",
       "</div>"
      ],
      "text/plain": [
       "                 count           mean            std      min       25%  \\\n",
       "Engine(CC)      2391.0    1341.902551     356.462453    624.0    1197.0   \n",
       "Max_Power(BHP)  2391.0      87.060644      20.001676     34.0      74.0   \n",
       "Torque(Nm)      2391.0     156.699440      65.313011      7.0     113.0   \n",
       "Mileage         2391.0      20.689055       3.824123     10.0      18.0   \n",
       "Owner           2391.0       1.185278       0.430491      1.0       1.0   \n",
       "Price           2391.0  553593.686324  178677.112628  74500.0  450000.0   \n",
       "Year            2391.0    2016.298620       2.512128   2003.0    2015.0   \n",
       "\n",
       "                      50%       75%         max  \n",
       "Engine(CC)        1248.00    1493.0     2982.00  \n",
       "Max_Power(BHP)      83.00      98.0      194.00  \n",
       "Torque(Nm)         140.00     200.0     1061.00  \n",
       "Mileage             20.92      23.1       33.54  \n",
       "Owner                1.00       1.0        4.00  \n",
       "Price           551040.00  650000.0  1903500.00  \n",
       "Year              2017.00    2018.0     2021.00  "
      ]
     },
     "execution_count": 538,
     "metadata": {},
     "output_type": "execute_result"
    }
   ],
   "source": [
    "df.describe().T"
   ]
  },
  {
   "cell_type": "markdown",
   "metadata": {
    "colab": {
     "base_uri": "https://localhost:8080/",
     "height": 282
    },
    "id": "3Xm_uwGRTjgg",
    "outputId": "e8025ad9-bcaf-40ae-dc82-d8564afed201"
   },
   "source": [
    "Observation:  maximum car engine CC in this data set is 2982 cc and lowset is 624 cc and power is 194 BHP and lowset is 34 BHP\n",
    " "
   ]
  },
  {
   "cell_type": "code",
   "execution_count": null,
   "metadata": {
    "id": "A_Q9vpjNSjEp"
   },
   "outputs": [],
   "source": []
  },
  {
   "cell_type": "markdown",
   "metadata": {},
   "source": [
    "#### Encoding the Cateogorical variables "
   ]
  },
  {
   "cell_type": "code",
   "execution_count": 666,
   "metadata": {
    "id": "KvleMr6_mleq"
   },
   "outputs": [],
   "source": [
    "#label encoding \n",
    "from sklearn.preprocessing import LabelEncoder \n",
    "le = LabelEncoder()\n",
    "\n",
    "df['Brand'] = le.fit_transform(df['Brand'])\n",
    "df['Model'] = le.fit_transform(df['Model'])\n",
    "df['Variant'] = le.fit_transform(df['Variant'])\n",
    "df['Gear'] = le.fit_transform(df['Gear'])\n",
    "df['Fuel'] = le.fit_transform(df['Fuel'])\n",
    "df['Color'] = le.fit_transform(df['Color'])\n",
    "df['Insurance'] = le.fit_transform(df['Insurance'])\n",
    "df['Seats'] = le.fit_transform(df['Seats'])\n",
    "df['Location'] = le.fit_transform(df['Location'])\n",
    "\n"
   ]
  },
  {
   "cell_type": "code",
   "execution_count": 667,
   "metadata": {},
   "outputs": [
    {
     "data": {
      "text/html": [
       "<div>\n",
       "<style scoped>\n",
       "    .dataframe tbody tr th:only-of-type {\n",
       "        vertical-align: middle;\n",
       "    }\n",
       "\n",
       "    .dataframe tbody tr th {\n",
       "        vertical-align: top;\n",
       "    }\n",
       "\n",
       "    .dataframe thead th {\n",
       "        text-align: right;\n",
       "    }\n",
       "</style>\n",
       "<table border=\"1\" class=\"dataframe\">\n",
       "  <thead>\n",
       "    <tr style=\"text-align: right;\">\n",
       "      <th></th>\n",
       "      <th>Brand</th>\n",
       "      <th>Model</th>\n",
       "      <th>Variant</th>\n",
       "      <th>Year</th>\n",
       "      <th>Gear</th>\n",
       "      <th>Engine(CC)</th>\n",
       "      <th>Max_Power(BHP)</th>\n",
       "      <th>Torque(Nm)</th>\n",
       "      <th>Mileage</th>\n",
       "      <th>Fuel</th>\n",
       "      <th>Color</th>\n",
       "      <th>Owner</th>\n",
       "      <th>Seats</th>\n",
       "      <th>Location</th>\n",
       "      <th>Insurance</th>\n",
       "      <th>Price</th>\n",
       "    </tr>\n",
       "  </thead>\n",
       "  <tbody>\n",
       "    <tr>\n",
       "      <th>0</th>\n",
       "      <td>2</td>\n",
       "      <td>57</td>\n",
       "      <td>16</td>\n",
       "      <td>2017</td>\n",
       "      <td>5</td>\n",
       "      <td>999</td>\n",
       "      <td>67</td>\n",
       "      <td>91.0</td>\n",
       "      <td>22.5</td>\n",
       "      <td>3</td>\n",
       "      <td>30</td>\n",
       "      <td>1</td>\n",
       "      <td>0</td>\n",
       "      <td>1</td>\n",
       "      <td>1</td>\n",
       "      <td>328500</td>\n",
       "    </tr>\n",
       "    <tr>\n",
       "      <th>1</th>\n",
       "      <td>3</td>\n",
       "      <td>26</td>\n",
       "      <td>95</td>\n",
       "      <td>2014</td>\n",
       "      <td>5</td>\n",
       "      <td>1498</td>\n",
       "      <td>89</td>\n",
       "      <td>204.0</td>\n",
       "      <td>22.7</td>\n",
       "      <td>1</td>\n",
       "      <td>21</td>\n",
       "      <td>1</td>\n",
       "      <td>0</td>\n",
       "      <td>1</td>\n",
       "      <td>1</td>\n",
       "      <td>605865</td>\n",
       "    </tr>\n",
       "    <tr>\n",
       "      <th>2</th>\n",
       "      <td>3</td>\n",
       "      <td>26</td>\n",
       "      <td>95</td>\n",
       "      <td>2014</td>\n",
       "      <td>5</td>\n",
       "      <td>1498</td>\n",
       "      <td>89</td>\n",
       "      <td>204.0</td>\n",
       "      <td>22.7</td>\n",
       "      <td>1</td>\n",
       "      <td>21</td>\n",
       "      <td>1</td>\n",
       "      <td>0</td>\n",
       "      <td>1</td>\n",
       "      <td>1</td>\n",
       "      <td>584000</td>\n",
       "    </tr>\n",
       "    <tr>\n",
       "      <th>3</th>\n",
       "      <td>3</td>\n",
       "      <td>26</td>\n",
       "      <td>379</td>\n",
       "      <td>2014</td>\n",
       "      <td>5</td>\n",
       "      <td>1498</td>\n",
       "      <td>99</td>\n",
       "      <td>215.0</td>\n",
       "      <td>21.7</td>\n",
       "      <td>1</td>\n",
       "      <td>21</td>\n",
       "      <td>2</td>\n",
       "      <td>0</td>\n",
       "      <td>1</td>\n",
       "      <td>1</td>\n",
       "      <td>622500</td>\n",
       "    </tr>\n",
       "    <tr>\n",
       "      <th>4</th>\n",
       "      <td>3</td>\n",
       "      <td>33</td>\n",
       "      <td>85</td>\n",
       "      <td>2012</td>\n",
       "      <td>5</td>\n",
       "      <td>1388</td>\n",
       "      <td>67</td>\n",
       "      <td>160.0</td>\n",
       "      <td>18.6</td>\n",
       "      <td>1</td>\n",
       "      <td>21</td>\n",
       "      <td>2</td>\n",
       "      <td>0</td>\n",
       "      <td>1</td>\n",
       "      <td>1</td>\n",
       "      <td>256000</td>\n",
       "    </tr>\n",
       "  </tbody>\n",
       "</table>\n",
       "</div>"
      ],
      "text/plain": [
       "   Brand  Model  Variant  Year  Gear  Engine(CC)  Max_Power(BHP)  Torque(Nm)  \\\n",
       "0      2     57       16  2017     5         999              67        91.0   \n",
       "1      3     26       95  2014     5        1498              89       204.0   \n",
       "2      3     26       95  2014     5        1498              89       204.0   \n",
       "3      3     26      379  2014     5        1498              99       215.0   \n",
       "4      3     33       85  2012     5        1388              67       160.0   \n",
       "\n",
       "   Mileage  Fuel  Color  Owner  Seats  Location  Insurance   Price  \n",
       "0     22.5     3     30      1      0         1          1  328500  \n",
       "1     22.7     1     21      1      0         1          1  605865  \n",
       "2     22.7     1     21      1      0         1          1  584000  \n",
       "3     21.7     1     21      2      0         1          1  622500  \n",
       "4     18.6     1     21      2      0         1          1  256000  "
      ]
     },
     "execution_count": 667,
     "metadata": {},
     "output_type": "execute_result"
    }
   ],
   "source": [
    "df.head()"
   ]
  },
  {
   "cell_type": "code",
   "execution_count": 541,
   "metadata": {
    "id": "NY2igsHssV3a"
   },
   "outputs": [],
   "source": [
    "df.to_csv('Car_Encoded.csv')"
   ]
  },
  {
   "cell_type": "code",
   "execution_count": 542,
   "metadata": {
    "colab": {
     "base_uri": "https://localhost:8080/",
     "height": 1000
    },
    "id": "nlLrl_7SouLE",
    "outputId": "24d6f8c0-01a2-44cf-a7d9-746330c5c8e8"
   },
   "outputs": [
    {
     "data": {
      "image/png": "[encoded data removed]",
      "text/plain": [
       "<Figure size 1080x720 with 2 Axes>"
      ]
     },
     "metadata": {
      "needs_background": "light"
     },
     "output_type": "display_data"
    }
   ],
   "source": [
    "#To check the corr_mat  Heatmap\n",
    "corr_hmap=df.corr()\n",
    "plt.figure(figsize=(15,10))\n",
    "sns.heatmap(corr_hmap, annot=True)\n",
    "plt.show()"
   ]
  },
  {
   "cell_type": "code",
   "execution_count": 543,
   "metadata": {
    "colab": {
     "base_uri": "https://localhost:8080/"
    },
    "id": "9VBaChCBpVVX",
    "outputId": "e5fc6a66-98c5-4cfa-9a24-84fe48b54661"
   },
   "outputs": [
    {
     "data": {
      "text/plain": [
       "Price             1.000000\n",
       "Year              0.472070\n",
       "Max_Power(BHP)    0.451465\n",
       "Torque(Nm)        0.373768\n",
       "Seats             0.345486\n",
       "Engine(CC)        0.334082\n",
       "Brand             0.007629\n",
       "Model             0.007487\n",
       "Variant          -0.001235\n",
       "Owner            -0.064432\n",
       "Mileage          -0.086237\n",
       "Location         -0.132778\n",
       "Gear             -0.168256\n",
       "Fuel             -0.237117\n",
       "Insurance        -0.243964\n",
       "Color            -0.255690\n",
       "Name: Price, dtype: float64"
      ]
     },
     "execution_count": 543,
     "metadata": {},
     "output_type": "execute_result"
    }
   ],
   "source": [
    "#to display the\n",
    "corr_matrix=df.corr()\n",
    "\n",
    "#please find the top 10 positive relation with dependet variable SALES PRICE \n",
    "corr_matrix['Price'].sort_values(ascending = False)"
   ]
  },
  {
   "cell_type": "markdown",
   "metadata": {
    "colab": {
     "base_uri": "https://localhost:8080/"
    },
    "id": "KTJjkU-CpPJn",
    "outputId": "37b4c356-c7f5-45e0-83f6-f386b830642b"
   },
   "source": [
    "Observation :\n",
    "\n",
    "Depedent varaible Price and independent variable Year have the positve corealtion 47%\n",
    "\n",
    "Car seaats and price of the car have positive relation of 35%\n",
    "Max_power and price of the car have positive corelation with price of the car 45%\n",
    "Engine CC 33% and torque 35% positive corealtion with the car price\n",
    "\n",
    "Independet variables variant and Owner, Mileage have negative corelation with Dependent variable Car price \n",
    "\n"
   ]
  },
  {
   "cell_type": "code",
   "execution_count": 544,
   "metadata": {
    "id": "HfblgEeZybr_"
   },
   "outputs": [
    {
     "data": {
      "image/png": "[encoded data removed]",
      "text/plain": [
       "<Figure size 1440x1440 with 1 Axes>"
      ]
     },
     "metadata": {
      "needs_background": "light"
     },
     "output_type": "display_data"
    }
   ],
   "source": [
    "#plot histogram\n",
    "df.boxplot(figsize=(20,20))\n",
    "plt.show()"
   ]
  },
  {
   "cell_type": "code",
   "execution_count": 599,
   "metadata": {
    "colab": {
     "base_uri": "https://localhost:8080/",
     "height": 279
    },
    "id": "eojn977DzlFV",
    "outputId": "7d8c489c-a171-4a7b-8edd-1056677b4f78"
   },
   "outputs": [
    {
     "data": {
      "image/png": "[encoded data removed]",
      "text/plain": [
       "<Figure size 432x288 with 1 Axes>"
      ]
     },
     "metadata": {
      "needs_background": "light"
     },
     "output_type": "display_data"
    }
   ],
   "source": [
    "sns.boxplot(df['Price'])\n",
    "plt.show()"
   ]
  },
  {
   "cell_type": "code",
   "execution_count": 546,
   "metadata": {
    "id": "WpD8aFAM75gO"
   },
   "outputs": [],
   "source": [
    "df1=df.select_dtypes(include=None, exclude=object)"
   ]
  },
  {
   "cell_type": "code",
   "execution_count": 547,
   "metadata": {
    "colab": {
     "base_uri": "https://localhost:8080/"
    },
    "id": "hXYipMt08MLS",
    "outputId": "503b7ddf-c4d7-40b8-d6a8-853c7cc31052"
   },
   "outputs": [
    {
     "data": {
      "text/plain": [
       "Index(['Brand', 'Model', 'Variant', 'Gear', 'Engine(CC)', 'Max_Power(BHP)',\n",
       "       'Torque(Nm)', 'Mileage', 'Fuel', 'Color', 'Owner', 'Seats', 'Location',\n",
       "       'Insurance', 'Price', 'Year'],\n",
       "      dtype='object')"
      ]
     },
     "execution_count": 547,
     "metadata": {},
     "output_type": "execute_result"
    }
   ],
   "source": [
    "df1.columns"
   ]
  },
  {
   "cell_type": "code",
   "execution_count": 548,
   "metadata": {
    "colab": {
     "base_uri": "https://localhost:8080/",
     "height": 1000
    },
    "id": "graRTQaI6yf5",
    "outputId": "ed0c89e1-153f-4a87-d874-c97cb9679726"
   },
   "outputs": [
    {
     "data": {
      "image/png": "[encoded data removed]",
      "text/plain": [
       "<Figure size 432x288 with 1 Axes>"
      ]
     },
     "metadata": {
      "needs_background": "light"
     },
     "output_type": "display_data"
    },
    {
     "data": {
      "image/png": "[encoded data removed]",
      "text/plain": [
       "<Figure size 432x288 with 1 Axes>"
      ]
     },
     "metadata": {
      "needs_background": "light"
     },
     "output_type": "display_data"
    },
    {
     "data": {
      "image/png": "[encoded data removed]",
      "text/plain": [
       "<Figure size 432x288 with 1 Axes>"
      ]
     },
     "metadata": {
      "needs_background": "light"
     },
     "output_type": "display_data"
    },
    {
     "data": {
      "image/png": "[encoded data removed]",
      "text/plain": [
       "<Figure size 432x288 with 1 Axes>"
      ]
     },
     "metadata": {
      "needs_background": "light"
     },
     "output_type": "display_data"
    },
    {
     "data": {
      "image/png": "[encoded data removed]",
      "text/plain": [
       "<Figure size 432x288 with 1 Axes>"
      ]
     },
     "metadata": {
      "needs_background": "light"
     },
     "output_type": "display_data"
    },
    {
     "data": {
      "image/png": "[encoded data removed]",
      "text/plain": [
       "<Figure size 432x288 with 1 Axes>"
      ]
     },
     "metadata": {
      "needs_background": "light"
     },
     "output_type": "display_data"
    },
    {
     "data": {
      "image/png": "[encoded data removed]",
      "text/plain": [
       "<Figure size 432x288 with 1 Axes>"
      ]
     },
     "metadata": {
      "needs_background": "light"
     },
     "output_type": "display_data"
    },
    {
     "data": {
      "image/png": "[encoded data removed]",
      "text/plain": [
       "<Figure size 432x288 with 1 Axes>"
      ]
     },
     "metadata": {
      "needs_background": "light"
     },
     "output_type": "display_data"
    },
    {
     "data": {
      "image/png": "[encoded data removed]",
      "text/plain": [
       "<Figure size 432x288 with 1 Axes>"
      ]
     },
     "metadata": {
      "needs_background": "light"
     },
     "output_type": "display_data"
    }
   ],
   "source": [
    "columns =['Engine(CC)',\n",
    "       'Max_Power(BHP)', 'Torque(Nm)', 'Mileage', 'Fuel', 'Color', 'Owner',\n",
    "       'Seats','Price']\n",
    "        \n",
    "for i in df[columns]:\n",
    "    plt.figure()\n",
    "    sns.boxplot(df[i])"
   ]
  },
  {
   "cell_type": "code",
   "execution_count": 549,
   "metadata": {},
   "outputs": [],
   "source": [
    "column=['Brand', 'Model', 'Variant','Year', 'Gear','Engine(CC)', 'Max_Power(BHP)','Torque(Nm)','Mileage','Fuel','Color','Owner','Seats','Location', 'Insurance','Price']\n",
    "  \n",
    "# create the new index for columns\n",
    "df=df.reindex(column, axis='columns')"
   ]
  },
  {
   "cell_type": "code",
   "execution_count": 550,
   "metadata": {
    "id": "RAkWFodc9BrG"
   },
   "outputs": [
    {
     "name": "stdout",
     "output_type": "stream",
     "text": [
      "[[1.77271893 0.31720381 1.67100078 ... 1.55045014 1.09990757 1.26004259]\n",
      " [1.49559758 0.71386507 1.13920661 ... 1.55045014 1.09990757 0.29260741]\n",
      " [1.49559758 0.71386507 1.13920661 ... 1.55045014 1.09990757 0.17021024]\n",
      " ...\n",
      " [1.27561586 0.98240954 0.36866547 ... 0.87556824 0.9091673  0.5396689 ]\n",
      " [0.44425182 0.78284782 0.15639713 ... 0.87556824 0.9091673  0.5396689 ]\n",
      " [1.49559758 1.3790708  0.7658282  ... 0.87556824 0.9091673  0.30000987]]\n"
     ]
    }
   ],
   "source": [
    "from scipy import stats\n",
    "import numpy as np\n",
    "z = np.abs(stats.zscore(df))\n",
    "print(z)\n"
   ]
  },
  {
   "cell_type": "code",
   "execution_count": 551,
   "metadata": {},
   "outputs": [
    {
     "name": "stdout",
     "output_type": "stream",
     "text": [
      "(array([  76,   79,   90,  120,  120,  121,  127,  140,  151,  200,  274,\n",
      "        275,  276,  323,  367,  428,  550,  550,  553,  556,  582,  586,\n",
      "        587,  588,  597,  597,  597,  616,  617,  914, 1012, 1012, 1012,\n",
      "       1012, 1014, 1125, 1129, 1130, 1132, 1132, 1132, 1145, 1159, 1176,\n",
      "       1177, 1203, 1324, 1324, 1327, 1350, 1353, 1358, 1372, 1393, 1417,\n",
      "       1423, 1427, 1435, 1435, 1435, 1455, 1463, 1475, 1495, 1497, 1509,\n",
      "       1509, 1509, 1518, 1546, 1549, 1549, 1549, 1551, 1561, 1575, 1576,\n",
      "       1577, 1583, 1585, 1586, 1595, 1600, 1615, 1616, 1620, 1628, 1630,\n",
      "       1639, 1640, 1647, 1647, 1661, 1666, 1677, 1686, 1693, 1694, 1698,\n",
      "       1699, 1699, 1700, 1706, 1708, 1713, 1717, 1730, 1738, 1759, 1763,\n",
      "       1764, 1766, 1766, 1766, 1793, 1810, 1811, 1837, 1958, 1958, 1961,\n",
      "       1984, 1987, 1992, 2006, 2027, 2051, 2057, 2061, 2069, 2069, 2069,\n",
      "       2089, 2097, 2109, 2129, 2131, 2143, 2143, 2143, 2152, 2180, 2183,\n",
      "       2183, 2183, 2185, 2195, 2209, 2210, 2211, 2217, 2219, 2220, 2229,\n",
      "       2234, 2249, 2250, 2254, 2262, 2264, 2273, 2274, 2281, 2281, 2295,\n",
      "       2300, 2311, 2320, 2327, 2328, 2332, 2333, 2333, 2334, 2340, 2342,\n",
      "       2347, 2351, 2364, 2372], dtype=int64), array([ 3,  3,  3,  6, 15, 15, 15, 11,  3,  7, 15, 15, 15,  5,  6,  6,  6,\n",
      "        7, 11, 15,  5,  5,  5,  5,  6,  7, 15,  8,  8,  8,  5,  6,  7, 15,\n",
      "        5,  3, 15,  6,  5,  6, 15, 11, 15,  3,  3, 15,  5, 11, 11,  5, 11,\n",
      "       11,  5,  5,  5, 11,  5,  5,  6, 11, 11,  5,  5, 11,  5,  5,  6,  7,\n",
      "       11,  5,  5,  6,  7,  5,  5,  5,  5,  5,  6,  5,  5,  5,  5,  5,  5,\n",
      "        5,  5,  5,  5,  5,  5, 11,  5,  5,  5,  5, 11,  5,  5,  3,  5,  5,\n",
      "        5, 11,  5,  5,  6,  5,  3, 15,  6,  5,  6, 15, 15,  3,  3, 15,  5,\n",
      "       11, 11,  5, 11, 11,  5,  5,  5, 11,  5,  5,  6, 11, 11,  5,  5, 11,\n",
      "        5,  5,  6,  7, 11,  5,  5,  6,  7,  5,  5,  5,  5,  5,  6,  5,  5,\n",
      "        5,  5,  5,  5,  5,  5,  5,  5,  5,  5, 11,  5,  5,  5,  5, 11,  5,\n",
      "        5,  3,  5,  5,  5, 11,  5,  5,  6,  5], dtype=int64))\n"
     ]
    }
   ],
   "source": [
    "threshold = 3\n",
    "print(np.where(z > 3))"
   ]
  },
  {
   "cell_type": "code",
   "execution_count": null,
   "metadata": {},
   "outputs": [],
   "source": []
  },
  {
   "cell_type": "code",
   "execution_count": null,
   "metadata": {},
   "outputs": [],
   "source": []
  },
  {
   "cell_type": "code",
   "execution_count": null,
   "metadata": {},
   "outputs": [],
   "source": []
  },
  {
   "cell_type": "markdown",
   "metadata": {
    "id": "mcII7mcd8__T"
   },
   "source": [
    "### Data Preparation:"
   ]
  },
  {
   "cell_type": "code",
   "execution_count": 580,
   "metadata": {
    "id": "TjG5yrrKyMfC"
   },
   "outputs": [],
   "source": [
    "#Spliting the dataset dependent and independent sets\n",
    "X = df.drop(['Price'],axis=1)\n",
    "y = df['Price']"
   ]
  },
  {
   "cell_type": "code",
   "execution_count": 600,
   "metadata": {},
   "outputs": [],
   "source": [
    "#Spliting the dataset dependent and independent sets\n",
    "X = df.drop(['Price','Color','Seats','Insurance'],axis=1)\n",
    "y = df['Price']"
   ]
  },
  {
   "cell_type": "code",
   "execution_count": 601,
   "metadata": {},
   "outputs": [
    {
     "name": "stdout",
     "output_type": "stream",
     "text": [
      "(2391, 12) (2391,)\n"
     ]
    }
   ],
   "source": [
    "print(X.shape,y.shape)"
   ]
  },
  {
   "cell_type": "code",
   "execution_count": 602,
   "metadata": {},
   "outputs": [
    {
     "data": {
      "text/plain": [
       "Index(['Brand', 'Model', 'Variant', 'Year', 'Gear', 'Engine(CC)',\n",
       "       'Max_Power(BHP)', 'Torque(Nm)', 'Mileage', 'Fuel', 'Owner', 'Location'],\n",
       "      dtype='object')"
      ]
     },
     "execution_count": 602,
     "metadata": {},
     "output_type": "execute_result"
    }
   ],
   "source": [
    "# scaling the features\n",
    "from sklearn.preprocessing import scale\n",
    "# storing column names in cols, since column names are (annoyingly) lost after \n",
    "# scaling (the df is converted to a numpy array)\n",
    "cols = X.columns\n",
    "X = pd.DataFrame(scale(X))\n",
    "X.columns = cols\n",
    "X.columns"
   ]
  },
  {
   "cell_type": "code",
   "execution_count": null,
   "metadata": {},
   "outputs": [],
   "source": []
  },
  {
   "cell_type": "code",
   "execution_count": 613,
   "metadata": {},
   "outputs": [],
   "source": [
    "from sklearn.model_selection import train_test_split\n",
    "X_train, X_test, y_train, y_test = train_test_split(X, y, train_size=0.8,test_size = 0.2, random_state=100)"
   ]
  },
  {
   "cell_type": "markdown",
   "metadata": {
    "id": "DhJVWnPuIP5g"
   },
   "source": [
    "### Model Building and Evaluation:\n",
    "#### Building the first model with all the features"
   ]
  },
  {
   "cell_type": "code",
   "execution_count": 660,
   "metadata": {},
   "outputs": [],
   "source": [
    "Model = []\n",
    "MMSE=[]\n",
    "MSE=[]\n",
    "RMSE=[]\n",
    "R_Square=[]"
   ]
  },
  {
   "cell_type": "code",
   "execution_count": 661,
   "metadata": {},
   "outputs": [
    {
     "name": "stdout",
     "output_type": "stream",
     "text": [
      "R Square 0.6110459402787973\n",
      "MAE  :  79742.20406072738\n",
      "MSE  :  12939206654.562105\n",
      "RMSE :  113750.63364466198\n"
     ]
    }
   ],
   "source": [
    "# Linear Regression Model\n",
    "\n",
    "\n",
    "lm = LinearRegression()\n",
    "# fit\n",
    "lm.fit(X_train, y_train)\n",
    "# predict \n",
    "y_pred = lm.predict(X_test)\n",
    "# metrics\n",
    "from sklearn.metrics import r2_score\n",
    "print(\"R Square\",r2_score(y_test, y_pred))\n",
    "\n",
    "\n",
    "\n",
    "\n",
    "\n",
    "r_score= lm.score(X,y)\n",
    "R_Square.append(r_score)\n",
    "Model.append(\"Linear Regression\")\n",
    "\n",
    "from sklearn.metrics import confusion_matrix,classification_report\n",
    "\n",
    "# calculate MAE, MSE, RMSE\n",
    "print(\"MAE  : \",metrics.mean_absolute_error(y_test, y_pred))\n",
    "print(\"MSE  : \", metrics.mean_squared_error(y_test, y_pred))\n",
    "print(\"RMSE : \", np.sqrt(metrics.mean_squared_error(y_test, y_pred)))\n",
    "\n",
    "\n",
    "\n",
    "MMSE.append(metrics.mean_absolute_error(y_test, y_pred))\n",
    "MSE.append(metrics.mean_squared_error(y_test, y_pred))\n",
    "RMSE.append(np.sqrt(metrics.mean_squared_error(y_test, y_pred)))"
   ]
  },
  {
   "cell_type": "markdown",
   "metadata": {
    "colab": {
     "base_uri": "https://localhost:8080/"
    },
    "id": "Dj8cE9GDyQUz",
    "outputId": "559c28ef-2d28-44a6-dd8d-1de315565a37"
   },
   "source": [
    "#### we are getting approx. 63% r-squared with all the variables"
   ]
  },
  {
   "cell_type": "code",
   "execution_count": 662,
   "metadata": {},
   "outputs": [
    {
     "name": "stdout",
     "output_type": "stream",
     "text": [
      "R Square -9.243175444568415\n",
      "MAE  :  79742.20406072738\n",
      "MSE  :  12939206654.562105\n",
      "RMSE :  113750.63364466198\n"
     ]
    }
   ],
   "source": [
    "# SVR model \n",
    "from sklearn.svm import LinearSVR\n",
    "Model_SVR = LinearSVR()\n",
    "\n",
    "Model_SVR.fit(X_train, y_train)\n",
    "yhat_SVR = model_SVR.predict(X_test)\n",
    "r_score= Model_SVR.score(X,y)\n",
    "print(\"R Square\",r2_score(y_test, yhat_SVR))\n",
    "\n",
    "#print('Predicted: %s' % yhat_SVR)\n",
    "\n",
    "\n",
    "print(\"MAE  : \",metrics.mean_absolute_error(y_test, y_pred))\n",
    "print(\"MSE  : \", metrics.mean_squared_error(y_test, y_pred))\n",
    "print(\"RMSE : \", np.sqrt(metrics.mean_squared_error(y_test, y_pred)))\n",
    "\n",
    "\n",
    "Model.append('SVRRegressor')\n",
    "R_Square.append(r_score)\n",
    "MMSE.append(metrics.mean_absolute_error(y_test, yhat_SVR))\n",
    "MSE.append(metrics.mean_squared_error(y_test, yhat_SVR))\n",
    "RMSE.append(np.sqrt(metrics.mean_squared_error(y_test, yhat_SVR)))"
   ]
  },
  {
   "cell_type": "code",
   "execution_count": null,
   "metadata": {
    "colab": {
     "base_uri": "https://localhost:8080/"
    },
    "id": "NHMeJZ85I4pW",
    "outputId": "4ed85638-df3a-4777-bb17-0df4d3088570"
   },
   "outputs": [],
   "source": []
  },
  {
   "cell_type": "code",
   "execution_count": 663,
   "metadata": {
    "colab": {
     "base_uri": "https://localhost:8080/"
    },
    "id": "a1hNfgINPjZG",
    "outputId": "57947445-2940-452d-faef-11501d818cb2"
   },
   "outputs": [
    {
     "name": "stdout",
     "output_type": "stream",
     "text": [
      "R Square 0.8209165423944185\n",
      "MAE  :  51144.246118898496\n",
      "MSE  :  5957510426.894809\n",
      "RMSE :  77184.91061661475\n"
     ]
    }
   ],
   "source": [
    "from sklearn.ensemble import RandomForestRegressor\n",
    "RFR = RandomForestRegressor(n_estimators = 10, random_state = 0)\n",
    "RFR.fit(X_train, y_train)\n",
    "y_predRFR =RFR.predict(X_test)\n",
    "\n",
    "r_score= RFR.score(X,y)\n",
    "print(\"R Square\",r2_score(y_test, y_predRFR))\n",
    "\n",
    "\n",
    "# calculate MAE, MSE, RMSE\n",
    "print(\"MAE  : \",metrics.mean_absolute_error(y_test, y_predRFR))\n",
    "print(\"MSE  : \", metrics.mean_squared_error(y_test, y_predRFR))\n",
    "print(\"RMSE : \", np.sqrt(metrics.mean_squared_error(y_test, y_predRFR)))\n",
    "\n",
    "Model.append('RandomForestRegressor')\n",
    "R_Square.append(r_score)\n",
    "MMSE.append(metrics.mean_absolute_error(y_test, y_predRFR))\n",
    "MSE.append(metrics.mean_squared_error(y_test, y_predRFR))\n",
    "RMSE.append(np.sqrt(metrics.mean_squared_error(y_test, y_predRFR)))"
   ]
  },
  {
   "cell_type": "markdown",
   "metadata": {
    "colab": {
     "base_uri": "https://localhost:8080/"
    },
    "id": "5y8jGNc-PrC8",
    "outputId": "938f4381-440d-4a08-d288-6268806b86ad"
   },
   "source": [
    "#### we are getting approx. 82% r-squared with all the variables"
   ]
  },
  {
   "cell_type": "code",
   "execution_count": null,
   "metadata": {
    "colab": {
     "base_uri": "https://localhost:8080/"
    },
    "id": "qHv3sExBP1gC",
    "outputId": "c1d6cd85-18b9-43eb-eb74-0fed0b1caf8b"
   },
   "outputs": [],
   "source": []
  },
  {
   "cell_type": "code",
   "execution_count": 664,
   "metadata": {
    "colab": {
     "base_uri": "https://localhost:8080/",
     "height": 142
    },
    "id": "xaVT9RMuQGXf",
    "outputId": "6680f7c5-2bac-486b-c123-4f0fd8b2aff7"
   },
   "outputs": [
    {
     "data": {
      "text/html": [
       "<div>\n",
       "<style scoped>\n",
       "    .dataframe tbody tr th:only-of-type {\n",
       "        vertical-align: middle;\n",
       "    }\n",
       "\n",
       "    .dataframe tbody tr th {\n",
       "        vertical-align: top;\n",
       "    }\n",
       "\n",
       "    .dataframe thead th {\n",
       "        text-align: right;\n",
       "    }\n",
       "</style>\n",
       "<table border=\"1\" class=\"dataframe\">\n",
       "  <thead>\n",
       "    <tr style=\"text-align: right;\">\n",
       "      <th></th>\n",
       "      <th>Model</th>\n",
       "      <th>MMSE</th>\n",
       "      <th>MSE</th>\n",
       "      <th>RMSE</th>\n",
       "      <th>R_score</th>\n",
       "    </tr>\n",
       "  </thead>\n",
       "  <tbody>\n",
       "    <tr>\n",
       "      <th>0</th>\n",
       "      <td>Linear Regression</td>\n",
       "      <td>79742.204061</td>\n",
       "      <td>1.293921e+10</td>\n",
       "      <td>113750.633645</td>\n",
       "      <td>0.611957</td>\n",
       "    </tr>\n",
       "    <tr>\n",
       "      <th>1</th>\n",
       "      <td>SVRRegressor</td>\n",
       "      <td>554520.009231</td>\n",
       "      <td>3.407563e+11</td>\n",
       "      <td>583743.389932</td>\n",
       "      <td>-9.537075</td>\n",
       "    </tr>\n",
       "    <tr>\n",
       "      <th>2</th>\n",
       "      <td>RandomForestRegressor</td>\n",
       "      <td>51144.246119</td>\n",
       "      <td>5.957510e+09</td>\n",
       "      <td>77184.910617</td>\n",
       "      <td>0.932879</td>\n",
       "    </tr>\n",
       "  </tbody>\n",
       "</table>\n",
       "</div>"
      ],
      "text/plain": [
       "                   Model           MMSE           MSE           RMSE   R_score\n",
       "0      Linear Regression   79742.204061  1.293921e+10  113750.633645  0.611957\n",
       "1           SVRRegressor  554520.009231  3.407563e+11  583743.389932 -9.537075\n",
       "2  RandomForestRegressor   51144.246119  5.957510e+09   77184.910617  0.932879"
      ]
     },
     "execution_count": 664,
     "metadata": {},
     "output_type": "execute_result"
    }
   ],
   "source": [
    "AccuracyTable=pd.DataFrame({'Model':Model,\n",
    "                        'MMSE':MMSE,\n",
    "                        'MSE': MSE, \n",
    "                        'RMSE': RMSE,\n",
    "                        'R_score':R_Square\n",
    "                       })\n",
    "AccuracyTable"
   ]
  },
  {
   "cell_type": "code",
   "execution_count": null,
   "metadata": {
    "id": "rpgTBbyDQHb3"
   },
   "outputs": [],
   "source": [
    "### We got highest accuracy in Random forest model so we Saving that model "
   ]
  },
  {
   "cell_type": "code",
   "execution_count": null,
   "metadata": {
    "id": "Qg1XbMhdQK2x"
   },
   "outputs": [],
   "source": [
    "from sklearn.externals import joblib\n",
    "\n",
    "# Save the model as a pickle in a file\n",
    "joblib.dump(RFR, 'model_RFR.pkl')\n",
    "  \n",
    "# Load the model from the file\n",
    "SVR_joblib = joblib.load('model_RFR.pkl') \n",
    "  \n",
    "# Use the loaded model to make predictions\n",
    "#SVR_joblib.predict(x_test)"
   ]
  },
  {
   "cell_type": "code",
   "execution_count": null,
   "metadata": {
    "colab": {
     "base_uri": "https://localhost:8080/",
     "height": 171
    },
    "id": "MCVxeeWApWqz",
    "outputId": "19bfa1eb-8509-479c-a3d9-f3df62ecf930"
   },
   "outputs": [],
   "source": []
  },
  {
   "cell_type": "code",
   "execution_count": null,
   "metadata": {
    "id": "ZZ6XCjyTQO3o"
   },
   "outputs": [],
   "source": []
  }
 ],
 "metadata": {
  "colab": {
   "collapsed_sections": [],
   "name": "Housing Project",
   "provenance": []
  },
  "kernelspec": {
   "display_name": "Python 3",
   "language": "python",
   "name": "python3"
  },
  "language_info": {
   "codemirror_mode": {
    "name": "ipython",
    "version": 3
   },
   "file_extension": ".py",
   "mimetype": "text/x-python",
   "name": "python",
   "nbconvert_exporter": "python",
   "pygments_lexer": "ipython3",
   "version": "3.7.3"
  }
 },
 "nbformat": 4,
 "nbformat_minor": 1
}
